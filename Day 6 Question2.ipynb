{
 "cells": [
  {
   "cell_type": "markdown",
   "metadata": {},
   "source": [
    "# Question 2\n",
    "\n",
    "For this challenge create a cone class that has two attributes\n",
    "\n",
    "*R=Radius\n",
    "\n",
    "*h=Height\n",
    "\n",
    "And two methods\n",
    "\n",
    "Volume = II*r2*(1/3)\n",
    "\n",
    "*Surface area : base : II*r2, side II*r*√(r2 +h2)\n",
    "\n",
    "Make only one class with functions as in where required import Math."
   ]
  },
  {
   "cell_type": "code",
   "execution_count": 20,
   "metadata": {},
   "outputs": [],
   "source": [
    "import math\n",
    "class cone():\n",
    "    def __init__(self,r,h):\n",
    "        self.r=r\n",
    "        self.h=h\n",
    "    def volume(self):\n",
    "        vol=(1/3)*math.pi*self.r*self.r\n",
    "        print(f'volume: {vol}')\n",
    "    def surfacearea(self):\n",
    "        base=math.pi*self.r*self.r\n",
    "        curved=math.pi*self.r*math.sqrt((self.r+self.h))\n",
    "        print(f'base area: {base}, curved area: {curved}')"
   ]
  },
  {
   "cell_type": "code",
   "execution_count": 21,
   "metadata": {},
   "outputs": [],
   "source": [
    "shape=cone(12,14)"
   ]
  },
  {
   "cell_type": "code",
   "execution_count": 22,
   "metadata": {},
   "outputs": [
    {
     "name": "stdout",
     "output_type": "stream",
     "text": [
      "volume: 150.79644737231007\n"
     ]
    }
   ],
   "source": [
    "shape.volume()"
   ]
  },
  {
   "cell_type": "code",
   "execution_count": 23,
   "metadata": {},
   "outputs": [
    {
     "name": "stdout",
     "output_type": "stream",
     "text": [
      "base area: 452.3893421169302, curved area: 192.2285069329691\n"
     ]
    }
   ],
   "source": [
    "shape.surfacearea()"
   ]
  },
  {
   "cell_type": "code",
   "execution_count": 24,
   "metadata": {},
   "outputs": [],
   "source": [
    "shape1=cone(516,617)"
   ]
  }
 ],
 "metadata": {
  "kernelspec": {
   "display_name": "Python 3",
   "language": "python",
   "name": "python3"
  },
  "language_info": {
   "codemirror_mode": {
    "name": "ipython",
    "version": 3
   },
   "file_extension": ".py",
   "mimetype": "text/x-python",
   "name": "python",
   "nbconvert_exporter": "python",
   "pygments_lexer": "ipython3",
   "version": "3.8.3"
  }
 },
 "nbformat": 4,
 "nbformat_minor": 4
}
