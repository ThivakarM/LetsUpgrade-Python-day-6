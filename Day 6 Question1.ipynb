{
 "cells": [
  {
   "cell_type": "markdown",
   "metadata": {},
   "source": [
    "# Question 1\n",
    "\n",
    "For this challenge create a bank account class that has two attributes\n",
    "\n",
    "owner Name\n",
    "\n",
    "Balance\n",
    "\n",
    "And two methods\n",
    "\n",
    "deposit\n",
    "\n",
    "withdraw\n",
    "\n",
    "As an added requirement withdrawals may not exceed the available balance\n",
    "\n",
    "Instantiate your class make several deposits and withdrawals and test to make sure the account\n",
    "cant be overdrawn"
   ]
  },
  {
   "cell_type": "code",
   "execution_count": 16,
   "metadata": {},
   "outputs": [],
   "source": [
    "class bankaccount():\n",
    "    def __init__(self,ownerName,Balance):\n",
    "        self.ownerName=ownerName\n",
    "        self.Balance=Balance\n",
    "    def deposit(self,amt):\n",
    "        self.Balance+=amt\n",
    "        print(f'Mr.{self.ownerName} amount deposited successfully!! your account balance is {self.Balance}')\n",
    "    def withdraw(self,amt):\n",
    "        if amt>self.Balance:\n",
    "            print(f'Mr.{self.ownerName} the entered amount cannot be withdrawn, enter a lesser amount')\n",
    "        else:\n",
    "            self.Balance-=amt\n",
    "            print(f'Mr.{self.ownerName} your account balance is {self.Balance}')\n",
    "        \n",
    "        \n",
    "        "
   ]
  },
  {
   "cell_type": "code",
   "execution_count": 17,
   "metadata": {},
   "outputs": [],
   "source": [
    "user1=bankaccount(\"thivakar\",1000)"
   ]
  },
  {
   "cell_type": "code",
   "execution_count": 19,
   "metadata": {},
   "outputs": [
    {
     "name": "stdout",
     "output_type": "stream",
     "text": [
      "Mr.thivakar amount deposited successfully!! your account balance is 3908\n"
     ]
    }
   ],
   "source": [
    "user1.deposit(2908)"
   ]
  },
  {
   "cell_type": "code",
   "execution_count": 20,
   "metadata": {},
   "outputs": [
    {
     "name": "stdout",
     "output_type": "stream",
     "text": [
      "Mr.thivakar amount deposited successfully!! your account balance is 2145329\n"
     ]
    }
   ],
   "source": [
    "user1.deposit(2141421)"
   ]
  },
  {
   "cell_type": "code",
   "execution_count": 21,
   "metadata": {},
   "outputs": [
    {
     "name": "stdout",
     "output_type": "stream",
     "text": [
      "Mr.thivakar your account balance is 1281142\n"
     ]
    }
   ],
   "source": [
    "user1.withdraw(864187)"
   ]
  },
  {
   "cell_type": "code",
   "execution_count": 22,
   "metadata": {},
   "outputs": [
    {
     "name": "stdout",
     "output_type": "stream",
     "text": [
      "Mr.thivakar the entered amount cannot be withdrawn, enter a lesser amount\n"
     ]
    }
   ],
   "source": [
    "user1.withdraw(1864187)"
   ]
  },
  {
   "cell_type": "code",
   "execution_count": 23,
   "metadata": {},
   "outputs": [
    {
     "name": "stdout",
     "output_type": "stream",
     "text": [
      "Mr.thivakar your account balance is 1272455\n"
     ]
    }
   ],
   "source": [
    "user1.withdraw(8687)"
   ]
  },
  {
   "cell_type": "code",
   "execution_count": null,
   "metadata": {},
   "outputs": [],
   "source": []
  }
 ],
 "metadata": {
  "kernelspec": {
   "display_name": "Python 3",
   "language": "python",
   "name": "python3"
  },
  "language_info": {
   "codemirror_mode": {
    "name": "ipython",
    "version": 3
   },
   "file_extension": ".py",
   "mimetype": "text/x-python",
   "name": "python",
   "nbconvert_exporter": "python",
   "pygments_lexer": "ipython3",
   "version": "3.8.3"
  }
 },
 "nbformat": 4,
 "nbformat_minor": 4
}
